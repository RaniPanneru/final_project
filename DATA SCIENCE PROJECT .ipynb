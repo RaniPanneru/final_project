{
 "cells": [
  {
   "cell_type": "code",
   "execution_count": 4,
   "id": "a30000df",
   "metadata": {},
   "outputs": [
    {
     "name": "stdout",
     "output_type": "stream",
     "text": [
      "Left join completed and saved as 'dataset.csv'\n"
     ]
    }
   ],
   "source": [
    "import pandas as pd\n",
    "\n",
    "# Load the datasets\n",
    "combined_data = pd.read_csv('Combined_Data[1].csv')\n",
    "mental_health_data = pd.read_csv('Mental_Health_Dataset[2].csv')\n",
    "\n",
    "# Optionally, add a unique index column if there is none\n",
    "# This will serve as a common key for joining\n",
    "combined_data['id'] = combined_data.index\n",
    "mental_health_data['id'] = mental_health_data.index\n",
    "\n",
    "# Perform a left join\n",
    "merged_data = pd.merge(combined_data, mental_health_data, how='left', on='id')\n",
    "\n",
    "# Save the merged dataset to a new CSV file\n",
    "merged_data.to_csv('dataset.csv', index=False)\n",
    "\n",
    "print(\"Left join completed and saved as 'dataset.csv'\")\n"
   ]
  },
  {
   "cell_type": "code",
   "execution_count": 5,
   "id": "cc8c8f05",
   "metadata": {},
   "outputs": [
    {
     "name": "stdout",
     "output_type": "stream",
     "text": [
      "   Unnamed: 0                                          statement   status  id  \\\n",
      "0           0                                         oh my gosh  Anxiety   0   \n",
      "1           1  trouble sleeping, confused mind, restless hear...  Anxiety   1   \n",
      "2           2  All wrong, back off dear, forward doubt. Stay ...  Anxiety   2   \n",
      "3           3  I've shifted my focus to something else but I'...  Anxiety   3   \n",
      "4           4  I'm restless and restless, it's been a month n...  Anxiety   4   \n",
      "\n",
      "             Timestamp  Gender        Country Occupation self_employed  \\\n",
      "0  2014-08-27 11:29:31  Female  United States  Corporate           NaN   \n",
      "1  2014-08-27 11:31:50  Female  United States  Corporate           NaN   \n",
      "2  2014-08-27 11:32:39  Female  United States  Corporate           NaN   \n",
      "3  2014-08-27 11:37:59  Female  United States  Corporate            No   \n",
      "4  2014-08-27 11:43:36  Female  United States  Corporate            No   \n",
      "\n",
      "  family_history  ... Days_Indoors Growing_Stress Changes_Habits  \\\n",
      "0             No  ...    1-14 days            Yes             No   \n",
      "1            Yes  ...    1-14 days            Yes             No   \n",
      "2            Yes  ...    1-14 days            Yes             No   \n",
      "3            Yes  ...    1-14 days            Yes             No   \n",
      "4            Yes  ...    1-14 days            Yes             No   \n",
      "\n",
      "  Mental_Health_History Mood_Swings Coping_Struggles Work_Interest  \\\n",
      "0                   Yes      Medium               No            No   \n",
      "1                   Yes      Medium               No            No   \n",
      "2                   Yes      Medium               No            No   \n",
      "3                   Yes      Medium               No            No   \n",
      "4                   Yes      Medium               No            No   \n",
      "\n",
      "  Social_Weakness mental_health_interview care_options  \n",
      "0             Yes                      No     Not sure  \n",
      "1             Yes                      No           No  \n",
      "2             Yes                      No          Yes  \n",
      "3             Yes                   Maybe          Yes  \n",
      "4             Yes                      No          Yes  \n",
      "\n",
      "[5 rows x 21 columns]\n"
     ]
    }
   ],
   "source": [
    "import pandas as pd\n",
    "\n",
    "# Load the newly created dataset\n",
    "new_data = pd.read_csv('dataset.csv')\n",
    "\n",
    "# Display the first 5 rows of the dataset\n",
    "print(new_data.head())\n",
    "\n"
   ]
  },
  {
   "cell_type": "code",
   "execution_count": 8,
   "id": "3c04e7b4",
   "metadata": {},
   "outputs": [
    {
     "name": "stdout",
     "output_type": "stream",
     "text": [
      "Size of Combined Data: 30.01 MB, Number of Records: 53043\n",
      "Size of Mental Health Dataset: 30.55 MB, Number of Records: 292364\n"
     ]
    }
   ],
   "source": [
    "import pandas as pd\n",
    "import os\n",
    "\n",
    "# File paths (update these paths to your actual file locations)\n",
    "combined_data_path = 'Combined_Data[1].csv'  # Assuming this file is in the current directory\n",
    "mental_health_data_path = 'Mental_Health_Dataset[2].csv'  # Assuming this file is in the current directory\n",
    "\n",
    "# Load datasets\n",
    "combined_data = pd.read_csv(combined_data_path)\n",
    "mental_health_data = pd.read_csv(mental_health_data_path)\n",
    "\n",
    "# Get sizes in MB\n",
    "combined_data_size = os.path.getsize(combined_data_path) / (1024 * 1024)  # Size in MB\n",
    "mental_health_data_size = os.path.getsize(mental_health_data_path) / (1024 * 1024)  # Size in MB\n",
    "\n",
    "# Get the number of records (rows)\n",
    "combined_data_records = combined_data.shape[0]  # Number of rows in Combined Data\n",
    "mental_health_data_records = mental_health_data.shape[0]  # Number of rows in Mental Health Data\n",
    "\n",
    "# Print sizes and number of records\n",
    "print(f\"Size of Combined Data: {combined_data_size:.2f} MB, Number of Records: {combined_data_records}\")\n",
    "print(f\"Size of Mental Health Dataset: {mental_health_data_size:.2f} MB, Number of Records: {mental_health_data_records}\")\n"
   ]
  },
  {
   "cell_type": "code",
   "execution_count": null,
   "id": "2d542fc8",
   "metadata": {},
   "outputs": [],
   "source": []
  }
 ],
 "metadata": {
  "kernelspec": {
   "display_name": "Python 3 (ipykernel)",
   "language": "python",
   "name": "python3"
  },
  "language_info": {
   "codemirror_mode": {
    "name": "ipython",
    "version": 3
   },
   "file_extension": ".py",
   "mimetype": "text/x-python",
   "name": "python",
   "nbconvert_exporter": "python",
   "pygments_lexer": "ipython3",
   "version": "3.9.13"
  }
 },
 "nbformat": 4,
 "nbformat_minor": 5
}
